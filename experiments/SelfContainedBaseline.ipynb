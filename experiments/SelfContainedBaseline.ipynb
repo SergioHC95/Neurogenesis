{
 "cells": [
  {
   "cell_type": "code",
   "execution_count": 1,
   "metadata": {},
   "outputs": [
    {
     "data": {
      "application/vnd.jupyter.widget-view+json": {
       "model_id": "fced5e000280493ea97f45b55c9f2abc",
       "version_major": 2,
       "version_minor": 0
      },
      "text/plain": [
       "  0%|          | 0/422 [00:00<?, ?it/s]"
      ]
     },
     "metadata": {},
     "output_type": "display_data"
    },
    {
     "data": {
      "application/vnd.jupyter.widget-view+json": {
       "model_id": "5e17388fc73d40cb909dbef511173fbf",
       "version_major": 2,
       "version_minor": 0
      },
      "text/plain": [
       "  0%|          | 0/47 [00:00<?, ?it/s]"
      ]
     },
     "metadata": {},
     "output_type": "display_data"
    },
    {
     "name": "stdout",
     "output_type": "stream",
     "text": [
      "Epoch 01: Train Loss 0.2888 | Val Loss 0.1462 | Val Acc 95.65%\n"
     ]
    },
    {
     "data": {
      "application/vnd.jupyter.widget-view+json": {
       "model_id": "4f258e1b46b244c5b3753a7115386ca0",
       "version_major": 2,
       "version_minor": 0
      },
      "text/plain": [
       "  0%|          | 0/422 [00:00<?, ?it/s]"
      ]
     },
     "metadata": {},
     "output_type": "display_data"
    },
    {
     "data": {
      "application/vnd.jupyter.widget-view+json": {
       "model_id": "7abb587f2e48442098e05ff059509cea",
       "version_major": 2,
       "version_minor": 0
      },
      "text/plain": [
       "  0%|          | 0/47 [00:00<?, ?it/s]"
      ]
     },
     "metadata": {},
     "output_type": "display_data"
    },
    {
     "name": "stdout",
     "output_type": "stream",
     "text": [
      "Epoch 02: Train Loss 0.1052 | Val Loss 0.1414 | Val Acc 95.68%\n"
     ]
    },
    {
     "data": {
      "application/vnd.jupyter.widget-view+json": {
       "model_id": "c9cb2dbe355c4d2c8d4fc4175d74b5f6",
       "version_major": 2,
       "version_minor": 0
      },
      "text/plain": [
       "  0%|          | 0/79 [00:00<?, ?it/s]"
      ]
     },
     "metadata": {},
     "output_type": "display_data"
    },
    {
     "name": "stdout",
     "output_type": "stream",
     "text": [
      "Test Accuracy: 96.24%\n"
     ]
    }
   ],
   "source": [
    "import torch\n",
    "import torch.nn as nn\n",
    "import torch.nn.functional as F\n",
    "from torch.utils.data import DataLoader, random_split\n",
    "from torchvision import datasets, transforms\n",
    "from tqdm.notebook import tqdm  # Use tqdm.notebook for Jupyter, or tqdm for .py files\n",
    "\n",
    "# Set seeds for reproducibility\n",
    "torch.manual_seed(0)\n",
    "\n",
    "# ----- Model Definition -----\n",
    "class MNIST_MLP(nn.Module):\n",
    "    def __init__(self):\n",
    "        super().__init__()\n",
    "        self.fc1 = nn.Linear(784, 256)\n",
    "        self.fc2 = nn.Linear(256, 128)\n",
    "        self.out = nn.Linear(128, 10)\n",
    "\n",
    "    def forward(self, x):\n",
    "        x = x.view(-1, 784)\n",
    "        x = F.relu(self.fc1(x))\n",
    "        x = F.relu(self.fc2(x))\n",
    "        return self.out(x)\n",
    "\n",
    "# ----- Normalization -----\n",
    "transform = transforms.Compose([\n",
    "    transforms.ToTensor(),\n",
    "    transforms.Normalize((0.1307,), (0.3081,))\n",
    "])\n",
    "\n",
    "# Load MNIST and split train/val\n",
    "dataset = datasets.MNIST(root='./data', train=True, download=True, transform=transform)\n",
    "val_size = 6000\n",
    "train_size = len(dataset) - val_size\n",
    "train_set, val_set = random_split(dataset, [train_size, val_size], generator=torch.Generator().manual_seed(42))\n",
    "test_set = datasets.MNIST(root='./data', train=False, download=True, transform=transform)\n",
    "\n",
    "train_loader = DataLoader(train_set, batch_size=128, shuffle=True)\n",
    "val_loader = DataLoader(val_set, batch_size=128, shuffle=False)\n",
    "test_loader = DataLoader(test_set, batch_size=128, shuffle=False)\n",
    "\n",
    "# ----- Model, Optimizer, Loss -----\n",
    "device = 'cuda' if torch.cuda.is_available() else 'cpu'\n",
    "model = MNIST_MLP().to(device)\n",
    "optimizer = torch.optim.Adam(model.parameters(), lr=1e-3)\n",
    "criterion = nn.CrossEntropyLoss()\n",
    "\n",
    "# ----- Training/Eval Loop -----\n",
    "def run_epoch(loader, model, criterion, optimizer=None):\n",
    "    train = optimizer is not None\n",
    "    model.train() if train else model.eval()\n",
    "    total_loss, correct, total = 0.0, 0, 0\n",
    "    loop = tqdm(loader, leave=False)\n",
    "    for x, y in loop:\n",
    "        x, y = x.to(device), y.to(device)\n",
    "        if train:\n",
    "            optimizer.zero_grad()\n",
    "        logits = model(x)\n",
    "        loss = criterion(logits, y)\n",
    "        if train:\n",
    "            loss.backward()\n",
    "            nn.utils.clip_grad_norm_(model.parameters(), 1.0)\n",
    "            optimizer.step()\n",
    "        total_loss += loss.item() * x.size(0)\n",
    "        preds = logits.argmax(dim=1)\n",
    "        correct += (preds == y).sum().item()\n",
    "        total += x.size(0)\n",
    "        loop.set_postfix(loss=loss.item())\n",
    "    return total_loss / total, correct / total\n",
    "\n",
    "# ----- Training Loop -----\n",
    "for epoch in range(1, 3):\n",
    "    train_loss, train_acc = run_epoch(train_loader, model, criterion, optimizer)\n",
    "    val_loss, val_acc = run_epoch(val_loader, model, criterion)\n",
    "    print(f\"Epoch {epoch:02d}: Train Loss {train_loss:.4f} | Val Loss {val_loss:.4f} | Val Acc {val_acc*100:.2f}%\")\n",
    "\n",
    "# ----- Final Test Evaluation -----\n",
    "test_loss, test_acc = run_epoch(test_loader, model, criterion)\n",
    "print(f\"Test Accuracy: {test_acc*100:.2f}%\")\n"
   ]
  },
  {
   "cell_type": "code",
   "execution_count": 2,
   "metadata": {},
   "outputs": [
    {
     "data": {
      "application/vnd.jupyter.widget-view+json": {
       "model_id": "c4fd57a3bcb1413f9d21cb2b76b4b4c6",
       "version_major": 2,
       "version_minor": 0
      },
      "text/plain": [
       "  0%|          | 0/422 [00:00<?, ?it/s]"
      ]
     },
     "metadata": {},
     "output_type": "display_data"
    },
    {
     "data": {
      "application/vnd.jupyter.widget-view+json": {
       "model_id": "2f1edd1f589947c5ae9b3ce0fe02bed3",
       "version_major": 2,
       "version_minor": 0
      },
      "text/plain": [
       "  0%|          | 0/47 [00:00<?, ?it/s]"
      ]
     },
     "metadata": {},
     "output_type": "display_data"
    },
    {
     "name": "stdout",
     "output_type": "stream",
     "text": [
      "Epoch 01: Train Loss 0.2929 | Val Loss 0.1552 | Val Acc 94.95%\n"
     ]
    },
    {
     "data": {
      "application/vnd.jupyter.widget-view+json": {
       "model_id": "a973308f2e394761a6c6aff52845dc4a",
       "version_major": 2,
       "version_minor": 0
      },
      "text/plain": [
       "  0%|          | 0/422 [00:00<?, ?it/s]"
      ]
     },
     "metadata": {},
     "output_type": "display_data"
    },
    {
     "data": {
      "application/vnd.jupyter.widget-view+json": {
       "model_id": "6cbb6962beb7491689e34d2a4f99956a",
       "version_major": 2,
       "version_minor": 0
      },
      "text/plain": [
       "  0%|          | 0/47 [00:00<?, ?it/s]"
      ]
     },
     "metadata": {},
     "output_type": "display_data"
    },
    {
     "name": "stdout",
     "output_type": "stream",
     "text": [
      "Epoch 02: Train Loss 0.1073 | Val Loss 0.0965 | Val Acc 97.07%\n"
     ]
    },
    {
     "data": {
      "application/vnd.jupyter.widget-view+json": {
       "model_id": "c0dd454ea6aa4301befa266d40d44bcd",
       "version_major": 2,
       "version_minor": 0
      },
      "text/plain": [
       "  0%|          | 0/79 [00:00<?, ?it/s]"
      ]
     },
     "metadata": {},
     "output_type": "display_data"
    },
    {
     "name": "stdout",
     "output_type": "stream",
     "text": [
      "Test Accuracy: 97.02%\n"
     ]
    }
   ],
   "source": [
    "import os\n",
    "import sys\n",
    "\n",
    "project_root = os.path.abspath(os.path.join(os.getcwd(), \"..\"))\n",
    "if project_root not in sys.path:\n",
    "    sys.path.insert(0, project_root)\n",
    "\n",
    "import torch\n",
    "import torch.nn as nn\n",
    "import torch.nn.functional as F\n",
    "from torch.utils.data import DataLoader, random_split\n",
    "from torchvision import datasets, transforms\n",
    "from tqdm.notebook import tqdm  # Use tqdm.notebook for Jupyter, or tqdm for .py files\n",
    "\n",
    "from experiments.mnist_baseline import prepare_data, Config\n",
    "\n",
    "# ----- Model Definition -----\n",
    "class MNIST_MLP(nn.Module):\n",
    "    def __init__(self):\n",
    "        super().__init__()\n",
    "        self.fc1 = nn.Linear(784, 256)\n",
    "        self.fc2 = nn.Linear(256, 128)\n",
    "        self.out = nn.Linear(128, 10)\n",
    "\n",
    "    def forward(self, x):\n",
    "        x = F.relu(self.fc1(x))\n",
    "        x = F.relu(self.fc2(x))\n",
    "        return self.out(x)\n",
    "\n",
    "SEED=0\n",
    "cfg=Config()\n",
    "torch.manual_seed(SEED)\n",
    "g = torch.Generator()\n",
    "g.manual_seed(SEED)\n",
    "\n",
    "train_set, val_set, test_set = prepare_data(cfg, generator=g)\n",
    "\n",
    "train_loader = DataLoader(train_set, batch_size=128, shuffle=True)\n",
    "val_loader = DataLoader(val_set, batch_size=128, shuffle=False)\n",
    "test_loader = DataLoader(test_set, batch_size=128, shuffle=False)\n",
    "\n",
    "# ----- Model, Optimizer, Loss -----\n",
    "device = 'cuda' if torch.cuda.is_available() else 'cpu'\n",
    "model = MNIST_MLP().to(device)\n",
    "optimizer = torch.optim.Adam(model.parameters(), lr=1e-3)\n",
    "criterion = nn.CrossEntropyLoss()\n",
    "\n",
    "# ----- Training/Eval Loop -----\n",
    "def run_epoch(loader, model, criterion, optimizer=None):\n",
    "    train = optimizer is not None\n",
    "    model.train() if train else model.eval()\n",
    "    total_loss, correct, total = 0.0, 0, 0\n",
    "    loop = tqdm(loader, leave=False)\n",
    "    for x, y in loop:\n",
    "        x, y = x.to(device), y.to(device)\n",
    "        if train:\n",
    "            optimizer.zero_grad()\n",
    "        logits = model(x)\n",
    "        loss = criterion(logits, y)\n",
    "        if train:\n",
    "            loss.backward()\n",
    "            nn.utils.clip_grad_norm_(model.parameters(), 1.0)\n",
    "            optimizer.step()\n",
    "        total_loss += loss.item() * x.size(0)\n",
    "        preds = logits.argmax(dim=1)\n",
    "        correct += (preds == y).sum().item()\n",
    "        total += x.size(0)\n",
    "        loop.set_postfix(loss=loss.item())\n",
    "    return total_loss / total, correct / total\n",
    "\n",
    "# ----- Training Loop -----\n",
    "for epoch in range(1, 3):\n",
    "    train_loss, train_acc = run_epoch(train_loader, model, criterion, optimizer)\n",
    "    val_loss, val_acc = run_epoch(val_loader, model, criterion)\n",
    "    print(f\"Epoch {epoch:02d}: Train Loss {train_loss:.4f} | Val Loss {val_loss:.4f} | Val Acc {val_acc*100:.2f}%\")\n",
    "\n",
    "# ----- Final Test Evaluation -----\n",
    "test_loss, test_acc = run_epoch(test_loader, model, criterion)\n",
    "print(f\"Test Accuracy: {test_acc*100:.2f}%\")\n"
   ]
  },
  {
   "cell_type": "code",
   "execution_count": null,
   "metadata": {},
   "outputs": [
    {
     "data": {
      "application/vnd.jupyter.widget-view+json": {
       "model_id": "4986f06355104752a6703bef27f1fd82",
       "version_major": 2,
       "version_minor": 0
      },
      "text/plain": [
       "  0%|          | 0/422 [00:00<?, ?it/s]"
      ]
     },
     "metadata": {},
     "output_type": "display_data"
    },
    {
     "data": {
      "application/vnd.jupyter.widget-view+json": {
       "model_id": "8b965a44135545fb9341eee08d73c794",
       "version_major": 2,
       "version_minor": 0
      },
      "text/plain": [
       "  0%|          | 0/47 [00:00<?, ?it/s]"
      ]
     },
     "metadata": {},
     "output_type": "display_data"
    },
    {
     "name": "stdout",
     "output_type": "stream",
     "text": [
      "Epoch 01: Train Loss 0.2398 | Val Loss 0.1145 | Val Acc 96.45%\n"
     ]
    },
    {
     "data": {
      "application/vnd.jupyter.widget-view+json": {
       "model_id": "a4dac2342fc04b16a670668553908276",
       "version_major": 2,
       "version_minor": 0
      },
      "text/plain": [
       "  0%|          | 0/422 [00:00<?, ?it/s]"
      ]
     },
     "metadata": {},
     "output_type": "display_data"
    }
   ],
   "source": [
    "import os\n",
    "import sys\n",
    "\n",
    "project_root = os.path.abspath(os.path.join(os.getcwd(), \"..\"))\n",
    "if project_root not in sys.path:\n",
    "    sys.path.insert(0, project_root)\n",
    "\n",
    "os.environ[\"KMP_DUPLICATE_LIB_OK\"] = \"TRUE\"\n",
    "\n",
    "import torch\n",
    "import torch.nn as nn\n",
    "import torch.nn.functional as F\n",
    "from torch.utils.data import DataLoader, random_split\n",
    "from torchvision import datasets, transforms\n",
    "from tqdm.notebook import tqdm\n",
    "\n",
    "from experiments.mnist_baseline import prepare_data, Config\n",
    "\n",
    "# --- Import your BaseMLP ---\n",
    "from src.models.base_mlp import BaseMLP  # Adjust path if needed\n",
    "\n",
    "SEED = 0\n",
    "cfg = Config()\n",
    "torch.manual_seed(SEED)\n",
    "g = torch.Generator()\n",
    "g.manual_seed(SEED)\n",
    "\n",
    "train_set, val_set, test_set = prepare_data(cfg, generator=g)\n",
    "train_loader = DataLoader(train_set, batch_size=128, shuffle=True)\n",
    "val_loader = DataLoader(val_set, batch_size=128, shuffle=False)\n",
    "test_loader = DataLoader(test_set, batch_size=128, shuffle=False)\n",
    "\n",
    "device = 'cuda' if torch.cuda.is_available() else 'cpu'\n",
    "\n",
    "# --- Instantiate your model ---\n",
    "layer_dims = [784, 256, 128, 10]\n",
    "model = BaseMLP(layer_dims).to(device)\n",
    "optimizer = torch.optim.Adam(model.parameters(), lr=1e-3)\n",
    "criterion = nn.CrossEntropyLoss()\n",
    "\n",
    "def run_epoch(loader, model, criterion, optimizer=None):\n",
    "    train = optimizer is not None\n",
    "    model.train() if train else model.eval()\n",
    "    total_loss, correct, total = 0.0, 0, 0\n",
    "    loop = tqdm(loader, leave=False)\n",
    "    for x, y in loop:\n",
    "        x, y = x.to(device), y.to(device)\n",
    "        if train:\n",
    "            optimizer.zero_grad()\n",
    "        logits = model(x)\n",
    "        loss = criterion(logits, y)\n",
    "        if train:\n",
    "            loss.backward()\n",
    "            nn.utils.clip_grad_norm_(model.parameters(), 1.0)\n",
    "            optimizer.step()\n",
    "        total_loss += loss.item() * x.size(0)\n",
    "        preds = logits.argmax(dim=1)\n",
    "        correct += (preds == y).sum().item()\n",
    "        total += x.size(0)\n",
    "        loop.set_postfix(loss=loss.item())\n",
    "    return total_loss / total, correct / total\n",
    "\n",
    "for epoch in range(1, 3):\n",
    "    train_loss, train_acc = run_epoch(train_loader, model, criterion, optimizer)\n",
    "    val_loss, val_acc = run_epoch(val_loader, model, criterion)\n",
    "    print(f\"Epoch {epoch:02d}: Train Loss {train_loss:.4f} | Val Loss {val_loss:.4f} | Val Acc {val_acc*100:.2f}%\")\n",
    "\n",
    "test_loss, test_acc = run_epoch(test_loader, model, criterion)\n",
    "print(f\"Test Accuracy: {test_acc*100:.2f}%\")\n"
   ]
  },
  {
   "cell_type": "code",
   "execution_count": 1,
   "metadata": {},
   "outputs": [
    {
     "name": "stdout",
     "output_type": "stream",
     "text": [
      "BaseTrainer initialized\n",
      "Epoch 1/2 | Train loss: 0.2398, Val loss: 0.1146, Val acc: 96.45%\n",
      "Epoch 2/2 | Train loss: 0.0947, Val loss: 0.0918, Val acc: 97.23%\n",
      "Training completed\n",
      "Test Accuracy: 97.35%\n"
     ]
    }
   ],
   "source": [
    "import os\n",
    "import sys\n",
    "\n",
    "project_root = os.path.abspath(os.path.join(os.getcwd(), \"..\"))\n",
    "if project_root not in sys.path:\n",
    "    sys.path.insert(0, project_root)\n",
    "\n",
    "import torch\n",
    "import torch.nn as nn\n",
    "from torch.utils.data import DataLoader\n",
    "from experiments.mnist_baseline import prepare_data, Config\n",
    "\n",
    "# --- Import your modules ---\n",
    "from src.models.base_mlp import BaseMLP\n",
    "from src.training.trainers import BaseTrainer  # Update if your trainer class is named differently\n",
    "\n",
    "SEED = 0\n",
    "cfg = Config()\n",
    "torch.manual_seed(SEED)\n",
    "g = torch.Generator()\n",
    "g.manual_seed(SEED)\n",
    "\n",
    "# Prepare data\n",
    "train_set, val_set, test_set = prepare_data(cfg, generator=g)\n",
    "train_loader = DataLoader(train_set, batch_size=128, shuffle=True)\n",
    "val_loader = DataLoader(val_set, batch_size=128, shuffle=False)\n",
    "test_loader = DataLoader(test_set, batch_size=128, shuffle=False)\n",
    "\n",
    "device = 'cuda' if torch.cuda.is_available() else 'cpu'\n",
    "layer_dims = [784, 256, 128, 10]\n",
    "model = BaseMLP(layer_dims).to(device)\n",
    "optimizer = torch.optim.Adam(model.parameters(), lr=1e-3)\n",
    "criterion = nn.CrossEntropyLoss()\n",
    "\n",
    "# --- Use your custom trainer ---\n",
    "trainer = BaseTrainer(\n",
    "    model=model,\n",
    "    optim=optimizer,\n",
    "    loss_f=criterion,\n",
    "    train_loader=train_loader,\n",
    "    val_loader=val_loader,\n",
    "    device=device,\n",
    "    resume_if_exists=False,\n",
    "    # Add any other required args as per your BaseTrainer definition\n",
    ")\n",
    "\n",
    "trainer.train(epochs=2)\n",
    "\n",
    "test_acc = trainer.evaluate(test_loader)\n",
    "print(f\"Test Accuracy: {test_acc*100:.2f}%\")\n"
   ]
  },
  {
   "cell_type": "code",
   "execution_count": 1,
   "metadata": {},
   "outputs": [
    {
     "data": {
      "image/png": "[encoded data removed]",
      "text/plain": [
       "<Figure size 800x500 with 2 Axes>"
      ]
     },
     "metadata": {},
     "output_type": "display_data"
    },
    {
     "name": "stdout",
     "output_type": "stream",
     "text": [
      "Epoch 2/2 | Train loss: 0.0947, Val loss: 0.0918, Val acc: 0.9723\n",
      "Training completed\n",
      "Test Accuracy: 97.35%\n"
     ]
    }
   ],
   "source": [
    "import os\n",
    "import sys\n",
    "\n",
    "project_root = os.path.abspath(os.path.join(os.getcwd(), \"..\"))\n",
    "if project_root not in sys.path:\n",
    "    sys.path.insert(0, project_root)\n",
    "\n",
    "os.environ[\"KMP_DUPLICATE_LIB_OK\"] = \"TRUE\"\n",
    "\n",
    "import torch\n",
    "import torch.nn as nn\n",
    "from torch.utils.data import DataLoader\n",
    "from experiments.mnist_baseline import prepare_data, Config\n",
    "\n",
    "# --- Import your modules ---\n",
    "from src.models.base_mlp import BaseMLP\n",
    "from src.training.custom_trainers import NotebookFullFeaturedTrainer  # Update if your trainer class is named differently\n",
    "\n",
    "SEED = 0\n",
    "cfg = Config()\n",
    "torch.manual_seed(SEED)\n",
    "g = torch.Generator()\n",
    "g.manual_seed(SEED)\n",
    "\n",
    "# Prepare data\n",
    "train_set, val_set, test_set = prepare_data(cfg, generator=g)\n",
    "train_loader = DataLoader(train_set, batch_size=128, shuffle=True)\n",
    "val_loader = DataLoader(val_set, batch_size=128, shuffle=False)\n",
    "test_loader = DataLoader(test_set, batch_size=128, shuffle=False)\n",
    "\n",
    "device = 'cuda' if torch.cuda.is_available() else 'cpu'\n",
    "layer_dims = [784, 256, 128, 10]\n",
    "model = BaseMLP(layer_dims).to(device)\n",
    "optimizer = torch.optim.Adam(model.parameters(), lr=1e-3)\n",
    "criterion = nn.CrossEntropyLoss()\n",
    "\n",
    "# --- Use your custom trainer ---\n",
    "trainer = NotebookFullFeaturedTrainer(\n",
    "    model=model,\n",
    "    optim=optimizer,\n",
    "    loss_f=criterion,\n",
    "    train_loader=train_loader,\n",
    "    val_loader=val_loader,\n",
    "    device=device,\n",
    "    resume_if_exists=False,\n",
    "    # Add any other required args as per your BaseTrainer definition\n",
    ")\n",
    "\n",
    "trainer.train(epochs=2)\n",
    "\n",
    "test_acc = trainer.evaluate(test_loader)\n",
    "print(f\"Test Accuracy: {test_acc*100:.2f}%\")\n"
   ]
  },
  {
   "cell_type": "code",
   "execution_count": null,
   "metadata": {},
   "outputs": [],
   "source": []
  }
 ],
 "metadata": {
  "kernelspec": {
   "display_name": "cortex",
   "language": "python",
   "name": "python3"
  },
  "language_info": {
   "codemirror_mode": {
    "name": "ipython",
    "version": 3
   },
   "file_extension": ".py",
   "mimetype": "text/x-python",
   "name": "python",
   "nbconvert_exporter": "python",
   "pygments_lexer": "ipython3",
   "version": "3.12.10"
  }
 },
 "nbformat": 4,
 "nbformat_minor": 2
}
