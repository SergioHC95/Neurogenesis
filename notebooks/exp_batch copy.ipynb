{
 "cells": [
  {
   "cell_type": "code",
   "execution_count": 1,
   "metadata": {},
   "outputs": [],
   "source": [
    "%load_ext autoreload\n",
    "%autoreload 2"
   ]
  },
  {
   "cell_type": "code",
   "execution_count": 2,
   "metadata": {},
   "outputs": [
    {
     "name": "stdout",
     "output_type": "stream",
     "text": [
      "c:\\Users\\sergi\\Dropbox\\Sergio HC\\GitHub\\Neurogenesis\n"
     ]
    }
   ],
   "source": [
    "import os\n",
    "import sys\n",
    "\n",
    "os.environ[\"KMP_DUPLICATE_LIB_OK\"] = \"TRUE\"\n",
    "\n",
    "project_root = os.path.abspath(os.path.join(os.getcwd(), \"..\"))\n",
    "if project_root not in sys.path:\n",
    "    sys.path.insert(0, project_root)\n",
    "print(project_root)"
   ]
  },
  {
   "cell_type": "code",
   "execution_count": 3,
   "metadata": {},
   "outputs": [
    {
     "name": "stdout",
     "output_type": "stream",
     "text": [
      "Launching 8 experiments with 4 workers...\n"
     ]
    },
    {
     "name": "stderr",
     "output_type": "stream",
     "text": [
      "Sweep progress:  12%|█▎        | 1/8 [6:26:09<45:03:03, 23169.13s/it]"
     ]
    },
    {
     "name": "stdout",
     "output_type": "stream",
     "text": [
      "[DONE] mnist_run_type-batch_lr-0.001_wd-0.05_seed-1: Test acc = 97.85%\n"
     ]
    },
    {
     "name": "stderr",
     "output_type": "stream",
     "text": [
      "Sweep progress:  25%|██▌       | 2/8 [6:26:18<15:54:32, 9545.47s/it] "
     ]
    },
    {
     "name": "stdout",
     "output_type": "stream",
     "text": [
      "[DONE] mnist_run_type-batch_lr-0.002_wd-0.05_seed-0: Test acc = 97.91%\n"
     ]
    },
    {
     "name": "stderr",
     "output_type": "stream",
     "text": [
      "Sweep progress:  38%|███▊      | 3/8 [6:26:35<7:12:53, 5194.76s/it] "
     ]
    },
    {
     "name": "stdout",
     "output_type": "stream",
     "text": [
      "[DONE] mnist_run_type-batch_lr-0.001_wd-0.05_seed-0: Test acc = 97.72%\n"
     ]
    },
    {
     "name": "stderr",
     "output_type": "stream",
     "text": [
      "Sweep progress:  50%|█████     | 4/8 [6:27:22<3:30:49, 3162.34s/it]"
     ]
    },
    {
     "name": "stdout",
     "output_type": "stream",
     "text": [
      "[DONE] mnist_run_type-batch_lr-0.002_wd-0.05_seed-1: Test acc = 97.90%\n"
     ]
    },
    {
     "name": "stderr",
     "output_type": "stream",
     "text": [
      "Sweep progress:  62%|██████▎   | 5/8 [12:38:30<8:22:35, 10051.95s/it]"
     ]
    },
    {
     "name": "stdout",
     "output_type": "stream",
     "text": [
      "[DONE] mnist_run_type-batch_lr-0.005_wd-0.05_seed-1: Test acc = 97.64%\n"
     ]
    },
    {
     "name": "stderr",
     "output_type": "stream",
     "text": [
      "Sweep progress:  75%|███████▌  | 6/8 [12:38:52<3:41:24, 6642.05s/it] "
     ]
    },
    {
     "name": "stdout",
     "output_type": "stream",
     "text": [
      "[DONE] mnist_run_type-batch_lr-0.005_wd-0.05_seed-0: Test acc = 97.55%\n"
     ]
    },
    {
     "name": "stderr",
     "output_type": "stream",
     "text": [
      "Sweep progress:  88%|████████▊ | 7/8 [12:39:25<1:14:41, 4481.39s/it]"
     ]
    },
    {
     "name": "stdout",
     "output_type": "stream",
     "text": [
      "[DONE] mnist_run_type-batch_lr-0.01_wd-0.05_seed-0: Test acc = 97.17%\n"
     ]
    },
    {
     "name": "stderr",
     "output_type": "stream",
     "text": [
      "Sweep progress: 100%|██████████| 8/8 [12:40:56<00:00, 5707.10s/it]  "
     ]
    },
    {
     "name": "stdout",
     "output_type": "stream",
     "text": [
      "[DONE] mnist_run_type-batch_lr-0.01_wd-0.05_seed-1: Test acc = 97.08%\n"
     ]
    },
    {
     "name": "stderr",
     "output_type": "stream",
     "text": [
      "\n"
     ]
    },
    {
     "name": "stdout",
     "output_type": "stream",
     "text": [
      "\n",
      "Sweep finished. Summary:\n"
     ]
    },
    {
     "data": {
      "text/plain": [
       "[]"
      ]
     },
     "execution_count": 3,
     "metadata": {},
     "output_type": "execute_result"
    }
   ],
   "source": [
    "from experiments.mnist_parallel import run_experiment\n",
    "\n",
    "run_experiment(\n",
    "    cfg_update={\n",
    "        \"list_run_type\": \"batch\",\n",
    "        \"list_lr\": [1e-3, 2e-3, 5e-3, 1e-2],\n",
    "        \"list_wd\": [5e-2],\n",
    "        \"list_seed\": [0, 1],\n",
    "        \"epochs\": 1000\n",
    "    },\n",
    "    prefix=\"mnist\",\n",
    "    max_workers=4\n",
    "    )"
   ]
  },
  {
   "cell_type": "code",
   "execution_count": null,
   "metadata": {},
   "outputs": [],
   "source": []
  }
 ],
 "metadata": {
  "kernelspec": {
   "display_name": "cortex",
   "language": "python",
   "name": "python3"
  },
  "language_info": {
   "codemirror_mode": {
    "name": "ipython",
    "version": 3
   },
   "file_extension": ".py",
   "mimetype": "text/x-python",
   "name": "python",
   "nbconvert_exporter": "python",
   "pygments_lexer": "ipython3",
   "version": "3.12.10"
  }
 },
 "nbformat": 4,
 "nbformat_minor": 2
}
