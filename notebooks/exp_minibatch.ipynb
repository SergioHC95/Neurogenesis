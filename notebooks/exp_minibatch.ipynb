{
 "cells": [
  {
   "cell_type": "code",
   "execution_count": 1,
   "metadata": {},
   "outputs": [],
   "source": [
    "%load_ext autoreload\n",
    "%autoreload 2"
   ]
  },
  {
   "cell_type": "code",
   "execution_count": 2,
   "metadata": {},
   "outputs": [
    {
     "name": "stdout",
     "output_type": "stream",
     "text": [
      "c:\\Users\\sergi\\Dropbox\\Sergio HC\\GitHub\\Neurogenesis\n"
     ]
    }
   ],
   "source": [
    "import os\n",
    "import sys\n",
    "\n",
    "os.environ[\"KMP_DUPLICATE_LIB_OK\"] = \"TRUE\"\n",
    "\n",
    "project_root = os.path.abspath(os.path.join(os.getcwd(), \"..\"))\n",
    "if project_root not in sys.path:\n",
    "    sys.path.insert(0, project_root)\n",
    "print(project_root)"
   ]
  },
  {
   "cell_type": "code",
   "execution_count": 4,
   "metadata": {},
   "outputs": [
    {
     "name": "stdout",
     "output_type": "stream",
     "text": [
      "Launching 64 experiments with 4 workers...\n"
     ]
    },
    {
     "name": "stderr",
     "output_type": "stream",
     "text": [
      "Sweep progress:   2%|▏         | 1/64 [2:08:50<135:17:28, 7730.93s/it]"
     ]
    },
    {
     "name": "stdout",
     "output_type": "stream",
     "text": [
      "[DONE] mnist_run_type-minibatch_batch_size-32_lr-0.0005_wd-0.0_seed-0: Test acc = 98.25%\n"
     ]
    },
    {
     "name": "stderr",
     "output_type": "stream",
     "text": [
      "Sweep progress:   3%|▎         | 2/64 [2:09:02<54:56:31, 3190.19s/it] "
     ]
    },
    {
     "name": "stdout",
     "output_type": "stream",
     "text": [
      "[DONE] mnist_run_type-minibatch_batch_size-32_lr-0.0005_wd-0.0001_seed-0: Test acc = 98.24%\n"
     ]
    },
    {
     "name": "stderr",
     "output_type": "stream",
     "text": [
      "Sweep progress:   5%|▍         | 3/64 [2:09:08<29:24:56, 1736.00s/it]"
     ]
    },
    {
     "name": "stdout",
     "output_type": "stream",
     "text": [
      "[DONE] mnist_run_type-minibatch_batch_size-32_lr-0.0005_wd-0.0_seed-1: Test acc = 98.33%\n"
     ]
    },
    {
     "name": "stderr",
     "output_type": "stream",
     "text": [
      "Sweep progress:   6%|▋         | 4/64 [2:10:16<17:57:46, 1077.77s/it]"
     ]
    },
    {
     "name": "stdout",
     "output_type": "stream",
     "text": [
      "[DONE] mnist_run_type-minibatch_batch_size-32_lr-0.0005_wd-0.0001_seed-1: Test acc = 98.18%\n"
     ]
    },
    {
     "name": "stderr",
     "output_type": "stream",
     "text": [
      "Sweep progress:   8%|▊         | 5/64 [4:04:43<51:52:35, 3165.35s/it]"
     ]
    },
    {
     "name": "stdout",
     "output_type": "stream",
     "text": [
      "[DONE] mnist_run_type-minibatch_batch_size-32_lr-0.0005_wd-0.01_seed-1: Test acc = 98.18%\n"
     ]
    },
    {
     "name": "stderr",
     "output_type": "stream",
     "text": [
      "Sweep progress:   9%|▉         | 6/64 [4:07:36<34:36:17, 2147.89s/it]"
     ]
    },
    {
     "name": "stdout",
     "output_type": "stream",
     "text": [
      "[DONE] mnist_run_type-minibatch_batch_size-32_lr-0.0005_wd-0.01_seed-0: Test acc = 98.17%\n"
     ]
    },
    {
     "name": "stderr",
     "output_type": "stream",
     "text": [
      "Sweep progress:  11%|█         | 7/64 [4:19:56<26:43:15, 1687.65s/it]"
     ]
    },
    {
     "name": "stdout",
     "output_type": "stream",
     "text": [
      "[DONE] mnist_run_type-minibatch_batch_size-32_lr-0.0005_wd-0.001_seed-0: Test acc = 97.94%\n"
     ]
    },
    {
     "name": "stderr",
     "output_type": "stream",
     "text": [
      "Sweep progress:  12%|█▎        | 8/64 [4:22:47<18:44:22, 1204.69s/it]"
     ]
    },
    {
     "name": "stdout",
     "output_type": "stream",
     "text": [
      "[DONE] mnist_run_type-minibatch_batch_size-32_lr-0.0005_wd-0.001_seed-1: Test acc = 98.19%\n"
     ]
    },
    {
     "name": "stderr",
     "output_type": "stream",
     "text": [
      "Sweep progress:  14%|█▍        | 9/64 [6:30:50<49:20:57, 3230.14s/it]"
     ]
    },
    {
     "name": "stdout",
     "output_type": "stream",
     "text": [
      "[DONE] mnist_run_type-minibatch_batch_size-32_lr-0.001_wd-0.0_seed-0: Test acc = 98.23%\n"
     ]
    },
    {
     "name": "stderr",
     "output_type": "stream",
     "text": [
      "Sweep progress:  16%|█▌        | 10/64 [6:33:14<34:09:36, 2277.34s/it]"
     ]
    },
    {
     "name": "stdout",
     "output_type": "stream",
     "text": [
      "[DONE] mnist_run_type-minibatch_batch_size-32_lr-0.001_wd-0.0_seed-1: Test acc = 98.08%\n"
     ]
    },
    {
     "name": "stderr",
     "output_type": "stream",
     "text": [
      "Sweep progress:  17%|█▋        | 11/64 [6:44:25<26:17:22, 1785.71s/it]"
     ]
    },
    {
     "name": "stdout",
     "output_type": "stream",
     "text": [
      "[DONE] mnist_run_type-minibatch_batch_size-32_lr-0.001_wd-0.0001_seed-0: Test acc = 98.05%\n"
     ]
    },
    {
     "name": "stderr",
     "output_type": "stream",
     "text": [
      "Sweep progress:  19%|█▉        | 12/64 [6:47:01<18:37:54, 1289.90s/it]"
     ]
    },
    {
     "name": "stdout",
     "output_type": "stream",
     "text": [
      "[DONE] mnist_run_type-minibatch_batch_size-32_lr-0.001_wd-0.0001_seed-1: Test acc = 98.09%\n"
     ]
    },
    {
     "name": "stderr",
     "output_type": "stream",
     "text": [
      "Sweep progress:  20%|██        | 13/64 [8:52:13<44:58:32, 3174.76s/it]"
     ]
    },
    {
     "name": "stdout",
     "output_type": "stream",
     "text": [
      "[DONE] mnist_run_type-minibatch_batch_size-32_lr-0.001_wd-0.01_seed-0: Test acc = 98.20%\n"
     ]
    },
    {
     "name": "stderr",
     "output_type": "stream",
     "text": [
      "Sweep progress:  22%|██▏       | 14/64 [8:54:52<31:26:37, 2263.95s/it]"
     ]
    },
    {
     "name": "stdout",
     "output_type": "stream",
     "text": [
      "[DONE] mnist_run_type-minibatch_batch_size-32_lr-0.001_wd-0.01_seed-1: Test acc = 98.19%\n"
     ]
    },
    {
     "name": "stderr",
     "output_type": "stream",
     "text": [
      "Sweep progress:  23%|██▎       | 15/64 [8:57:39<22:12:36, 1631.77s/it]"
     ]
    },
    {
     "name": "stdout",
     "output_type": "stream",
     "text": [
      "[DONE] mnist_run_type-minibatch_batch_size-32_lr-0.001_wd-0.001_seed-0: Test acc = 98.11%\n"
     ]
    },
    {
     "name": "stderr",
     "output_type": "stream",
     "text": [
      "Sweep progress:  25%|██▌       | 16/64 [8:58:07<15:19:06, 1148.88s/it]"
     ]
    },
    {
     "name": "stdout",
     "output_type": "stream",
     "text": [
      "[DONE] mnist_run_type-minibatch_batch_size-32_lr-0.001_wd-0.001_seed-1: Test acc = 98.05%\n"
     ]
    },
    {
     "name": "stderr",
     "output_type": "stream",
     "text": [
      "Sweep progress:  27%|██▋       | 17/64 [11:34:17<47:16:29, 3621.04s/it]"
     ]
    },
    {
     "name": "stdout",
     "output_type": "stream",
     "text": [
      "[DONE] mnist_run_type-minibatch_batch_size-32_lr-0.002_wd-0.0_seed-0: Test acc = 97.99%\n"
     ]
    },
    {
     "name": "stderr",
     "output_type": "stream",
     "text": [
      "Sweep progress:  28%|██▊       | 18/64 [11:35:53<32:44:04, 2561.84s/it]"
     ]
    },
    {
     "name": "stdout",
     "output_type": "stream",
     "text": [
      "[DONE] mnist_run_type-minibatch_batch_size-32_lr-0.002_wd-0.0_seed-1: Test acc = 97.80%\n"
     ]
    },
    {
     "name": "stderr",
     "output_type": "stream",
     "text": [
      "Sweep progress:  30%|██▉       | 19/64 [11:39:28<23:12:52, 1857.16s/it]"
     ]
    },
    {
     "name": "stdout",
     "output_type": "stream",
     "text": [
      "[DONE] mnist_run_type-minibatch_batch_size-32_lr-0.002_wd-0.0001_seed-0: Test acc = 97.98%\n"
     ]
    },
    {
     "name": "stderr",
     "output_type": "stream",
     "text": [
      "Sweep progress:  31%|███▏      | 20/64 [11:42:30<16:32:55, 1353.99s/it]"
     ]
    },
    {
     "name": "stdout",
     "output_type": "stream",
     "text": [
      "[DONE] mnist_run_type-minibatch_batch_size-32_lr-0.002_wd-0.0001_seed-1: Test acc = 98.05%\n"
     ]
    },
    {
     "name": "stderr",
     "output_type": "stream",
     "text": [
      "Sweep progress:  33%|███▎      | 21/64 [14:06:39<42:19:37, 3543.66s/it]"
     ]
    },
    {
     "name": "stdout",
     "output_type": "stream",
     "text": [
      "[DONE] mnist_run_type-minibatch_batch_size-32_lr-0.002_wd-0.01_seed-0: Test acc = 97.74%\n"
     ]
    },
    {
     "name": "stderr",
     "output_type": "stream",
     "text": [
      "Sweep progress:  34%|███▍      | 22/64 [14:09:02<29:26:20, 2523.34s/it]"
     ]
    },
    {
     "name": "stdout",
     "output_type": "stream",
     "text": [
      "[DONE] mnist_run_type-minibatch_batch_size-32_lr-0.002_wd-0.001_seed-0: Test acc = 97.49%\n"
     ]
    },
    {
     "name": "stderr",
     "output_type": "stream",
     "text": [
      "Sweep progress:  36%|███▌      | 23/64 [14:09:10<20:08:18, 1768.25s/it]"
     ]
    },
    {
     "name": "stdout",
     "output_type": "stream",
     "text": [
      "[DONE] mnist_run_type-minibatch_batch_size-32_lr-0.002_wd-0.001_seed-1: Test acc = 97.65%\n"
     ]
    },
    {
     "name": "stderr",
     "output_type": "stream",
     "text": [
      "Sweep progress:  38%|███▊      | 24/64 [14:10:00<13:55:09, 1252.73s/it]"
     ]
    },
    {
     "name": "stdout",
     "output_type": "stream",
     "text": [
      "[DONE] mnist_run_type-minibatch_batch_size-32_lr-0.002_wd-0.01_seed-1: Test acc = 97.59%\n"
     ]
    },
    {
     "name": "stderr",
     "output_type": "stream",
     "text": [
      "Sweep progress:  39%|███▉      | 25/64 [16:26:54<36:11:53, 3341.37s/it]"
     ]
    },
    {
     "name": "stdout",
     "output_type": "stream",
     "text": [
      "[DONE] mnist_run_type-minibatch_batch_size-32_lr-0.005_wd-0.0_seed-0: Test acc = 92.88%\n"
     ]
    },
    {
     "name": "stderr",
     "output_type": "stream",
     "text": [
      "Sweep progress:  41%|████      | 26/64 [16:27:41<24:50:19, 2353.14s/it]"
     ]
    },
    {
     "name": "stdout",
     "output_type": "stream",
     "text": [
      "[DONE] mnist_run_type-minibatch_batch_size-32_lr-0.005_wd-0.0_seed-1: Test acc = 93.94%\n"
     ]
    },
    {
     "name": "stderr",
     "output_type": "stream",
     "text": [
      "Sweep progress:  42%|████▏     | 27/64 [16:27:50<16:57:27, 1649.92s/it]"
     ]
    },
    {
     "name": "stdout",
     "output_type": "stream",
     "text": [
      "[DONE] mnist_run_type-minibatch_batch_size-32_lr-0.005_wd-0.0001_seed-0: Test acc = 94.12%\n"
     ]
    },
    {
     "name": "stderr",
     "output_type": "stream",
     "text": [
      "Sweep progress:  44%|████▍     | 28/64 [16:30:39<12:03:18, 1205.53s/it]"
     ]
    },
    {
     "name": "stdout",
     "output_type": "stream",
     "text": [
      "[DONE] mnist_run_type-minibatch_batch_size-32_lr-0.005_wd-0.0001_seed-1: Test acc = 94.34%\n"
     ]
    },
    {
     "name": "stderr",
     "output_type": "stream",
     "text": [
      "Sweep progress:  45%|████▌     | 29/64 [18:46:25<31:57:53, 3287.81s/it]"
     ]
    },
    {
     "name": "stdout",
     "output_type": "stream",
     "text": [
      "[DONE] mnist_run_type-minibatch_batch_size-32_lr-0.005_wd-0.01_seed-0: Test acc = 97.31%\n"
     ]
    },
    {
     "name": "stderr",
     "output_type": "stream",
     "text": [
      "Sweep progress:  47%|████▋     | 30/64 [18:47:04<21:50:39, 2312.92s/it]"
     ]
    },
    {
     "name": "stdout",
     "output_type": "stream",
     "text": [
      "[DONE] mnist_run_type-minibatch_batch_size-32_lr-0.005_wd-0.001_seed-0: Test acc = 96.55%\n"
     ]
    },
    {
     "name": "stderr",
     "output_type": "stream",
     "text": [
      "Sweep progress:  48%|████▊     | 31/64 [18:49:31<15:14:42, 1663.10s/it]"
     ]
    },
    {
     "name": "stdout",
     "output_type": "stream",
     "text": [
      "[DONE] mnist_run_type-minibatch_batch_size-32_lr-0.005_wd-0.001_seed-1: Test acc = 96.77%\n"
     ]
    },
    {
     "name": "stderr",
     "output_type": "stream",
     "text": [
      "Sweep progress:  50%|█████     | 32/64 [18:50:03<10:26:04, 1173.90s/it]"
     ]
    },
    {
     "name": "stdout",
     "output_type": "stream",
     "text": [
      "[DONE] mnist_run_type-minibatch_batch_size-32_lr-0.005_wd-0.01_seed-1: Test acc = 96.31%\n"
     ]
    },
    {
     "name": "stderr",
     "output_type": "stream",
     "text": [
      "Sweep progress:  52%|█████▏    | 33/64 [19:27:09<12:49:37, 1489.59s/it]"
     ]
    },
    {
     "name": "stdout",
     "output_type": "stream",
     "text": [
      "[DONE] mnist_run_type-minibatch_batch_size-1024_lr-0.0005_wd-0.0_seed-0: Test acc = 97.99%\n"
     ]
    },
    {
     "name": "stderr",
     "output_type": "stream",
     "text": [
      "Sweep progress:  53%|█████▎    | 34/64 [19:27:45<8:46:42, 1053.42s/it] "
     ]
    },
    {
     "name": "stdout",
     "output_type": "stream",
     "text": [
      "[DONE] mnist_run_type-minibatch_batch_size-1024_lr-0.0005_wd-0.0_seed-1: Test acc = 98.10%\n"
     ]
    },
    {
     "name": "stderr",
     "output_type": "stream",
     "text": [
      "Sweep progress:  55%|█████▍    | 35/64 [19:29:38<6:12:48, 771.34s/it] "
     ]
    },
    {
     "name": "stdout",
     "output_type": "stream",
     "text": [
      "[DONE] mnist_run_type-minibatch_batch_size-1024_lr-0.0005_wd-0.0001_seed-0: Test acc = 97.98%\n"
     ]
    },
    {
     "name": "stderr",
     "output_type": "stream",
     "text": [
      "Sweep progress:  56%|█████▋    | 36/64 [19:30:21<4:18:01, 552.89s/it]"
     ]
    },
    {
     "name": "stdout",
     "output_type": "stream",
     "text": [
      "[DONE] mnist_run_type-minibatch_batch_size-1024_lr-0.0005_wd-0.0001_seed-1: Test acc = 98.06%\n"
     ]
    },
    {
     "name": "stderr",
     "output_type": "stream",
     "text": [
      "Sweep progress:  58%|█████▊    | 37/64 [20:06:59<7:50:49, 1046.29s/it]"
     ]
    },
    {
     "name": "stdout",
     "output_type": "stream",
     "text": [
      "[DONE] mnist_run_type-minibatch_batch_size-1024_lr-0.0005_wd-0.001_seed-0: Test acc = 97.96%\n"
     ]
    },
    {
     "name": "stderr",
     "output_type": "stream",
     "text": [
      "Sweep progress:  59%|█████▉    | 38/64 [20:07:58<5:25:01, 750.06s/it] "
     ]
    },
    {
     "name": "stdout",
     "output_type": "stream",
     "text": [
      "[DONE] mnist_run_type-minibatch_batch_size-1024_lr-0.0005_wd-0.001_seed-1: Test acc = 98.12%\n"
     ]
    },
    {
     "name": "stderr",
     "output_type": "stream",
     "text": [
      "Sweep progress:  61%|██████    | 39/64 [20:09:35<3:50:53, 554.13s/it]"
     ]
    },
    {
     "name": "stdout",
     "output_type": "stream",
     "text": [
      "[DONE] mnist_run_type-minibatch_batch_size-1024_lr-0.0005_wd-0.01_seed-0: Test acc = 98.01%\n"
     ]
    },
    {
     "name": "stderr",
     "output_type": "stream",
     "text": [
      "Sweep progress:  62%|██████▎   | 40/64 [20:10:31<2:41:55, 404.82s/it]"
     ]
    },
    {
     "name": "stdout",
     "output_type": "stream",
     "text": [
      "[DONE] mnist_run_type-minibatch_batch_size-1024_lr-0.0005_wd-0.01_seed-1: Test acc = 98.15%\n"
     ]
    },
    {
     "name": "stderr",
     "output_type": "stream",
     "text": [
      "Sweep progress:  64%|██████▍   | 41/64 [20:46:56<5:59:55, 938.93s/it]"
     ]
    },
    {
     "name": "stdout",
     "output_type": "stream",
     "text": [
      "[DONE] mnist_run_type-minibatch_batch_size-1024_lr-0.001_wd-0.0_seed-0: Test acc = 98.16%\n"
     ]
    },
    {
     "name": "stderr",
     "output_type": "stream",
     "text": [
      "Sweep progress:  66%|██████▌   | 42/64 [20:48:07<4:08:47, 678.53s/it]"
     ]
    },
    {
     "name": "stdout",
     "output_type": "stream",
     "text": [
      "[DONE] mnist_run_type-minibatch_batch_size-1024_lr-0.001_wd-0.0_seed-1: Test acc = 98.38%\n"
     ]
    },
    {
     "name": "stderr",
     "output_type": "stream",
     "text": [
      "Sweep progress:  67%|██████▋   | 43/64 [20:49:28<2:54:41, 499.13s/it]"
     ]
    },
    {
     "name": "stdout",
     "output_type": "stream",
     "text": [
      "[DONE] mnist_run_type-minibatch_batch_size-1024_lr-0.001_wd-0.0001_seed-0: Test acc = 98.26%\n"
     ]
    },
    {
     "name": "stderr",
     "output_type": "stream",
     "text": [
      "Sweep progress:  69%|██████▉   | 44/64 [20:50:48<2:04:28, 373.42s/it]"
     ]
    },
    {
     "name": "stdout",
     "output_type": "stream",
     "text": [
      "[DONE] mnist_run_type-minibatch_batch_size-1024_lr-0.001_wd-0.0001_seed-1: Test acc = 98.33%\n"
     ]
    },
    {
     "name": "stderr",
     "output_type": "stream",
     "text": [
      "Sweep progress:  70%|███████   | 45/64 [21:27:17<4:50:44, 918.12s/it]"
     ]
    },
    {
     "name": "stdout",
     "output_type": "stream",
     "text": [
      "[DONE] mnist_run_type-minibatch_batch_size-1024_lr-0.001_wd-0.001_seed-0: Test acc = 98.23%\n"
     ]
    },
    {
     "name": "stderr",
     "output_type": "stream",
     "text": [
      "Sweep progress:  72%|███████▏  | 46/64 [21:28:41<3:20:23, 667.97s/it]"
     ]
    },
    {
     "name": "stdout",
     "output_type": "stream",
     "text": [
      "[DONE] mnist_run_type-minibatch_batch_size-1024_lr-0.001_wd-0.001_seed-1: Test acc = 98.35%\n"
     ]
    },
    {
     "name": "stderr",
     "output_type": "stream",
     "text": [
      "Sweep progress:  73%|███████▎  | 47/64 [21:29:44<2:17:47, 486.29s/it]"
     ]
    },
    {
     "name": "stdout",
     "output_type": "stream",
     "text": [
      "[DONE] mnist_run_type-minibatch_batch_size-1024_lr-0.001_wd-0.01_seed-0: Test acc = 98.20%\n"
     ]
    },
    {
     "name": "stderr",
     "output_type": "stream",
     "text": [
      "Sweep progress:  75%|███████▌  | 48/64 [21:31:27<1:39:02, 371.39s/it]"
     ]
    },
    {
     "name": "stdout",
     "output_type": "stream",
     "text": [
      "[DONE] mnist_run_type-minibatch_batch_size-1024_lr-0.001_wd-0.01_seed-1: Test acc = 98.35%\n"
     ]
    },
    {
     "name": "stderr",
     "output_type": "stream",
     "text": [
      "Sweep progress:  77%|███████▋  | 49/64 [22:08:12<3:50:22, 921.49s/it]"
     ]
    },
    {
     "name": "stdout",
     "output_type": "stream",
     "text": [
      "[DONE] mnist_run_type-minibatch_batch_size-1024_lr-0.002_wd-0.0_seed-0: Test acc = 98.25%\n"
     ]
    },
    {
     "name": "stderr",
     "output_type": "stream",
     "text": [
      "Sweep progress:  78%|███████▊  | 50/64 [22:09:43<2:36:54, 672.50s/it]"
     ]
    },
    {
     "name": "stdout",
     "output_type": "stream",
     "text": [
      "[DONE] mnist_run_type-minibatch_batch_size-1024_lr-0.002_wd-0.0_seed-1: Test acc = 98.39%\n"
     ]
    },
    {
     "name": "stderr",
     "output_type": "stream",
     "text": [
      "Sweep progress:  80%|███████▉  | 51/64 [22:10:32<1:45:10, 485.46s/it]"
     ]
    },
    {
     "name": "stdout",
     "output_type": "stream",
     "text": [
      "[DONE] mnist_run_type-minibatch_batch_size-1024_lr-0.002_wd-0.0001_seed-0: Test acc = 98.19%\n"
     ]
    },
    {
     "name": "stderr",
     "output_type": "stream",
     "text": [
      "Sweep progress:  81%|████████▏ | 52/64 [22:12:41<1:15:40, 378.41s/it]"
     ]
    },
    {
     "name": "stdout",
     "output_type": "stream",
     "text": [
      "[DONE] mnist_run_type-minibatch_batch_size-1024_lr-0.002_wd-0.0001_seed-1: Test acc = 98.35%\n"
     ]
    },
    {
     "name": "stderr",
     "output_type": "stream",
     "text": [
      "Sweep progress:  83%|████████▎ | 53/64 [22:49:17<2:49:19, 923.58s/it]"
     ]
    },
    {
     "name": "stdout",
     "output_type": "stream",
     "text": [
      "[DONE] mnist_run_type-minibatch_batch_size-1024_lr-0.002_wd-0.001_seed-0: Test acc = 98.24%\n"
     ]
    },
    {
     "name": "stderr",
     "output_type": "stream",
     "text": [
      "Sweep progress:  84%|████████▍ | 54/64 [22:50:59<1:52:52, 677.27s/it]"
     ]
    },
    {
     "name": "stdout",
     "output_type": "stream",
     "text": [
      "[DONE] mnist_run_type-minibatch_batch_size-1024_lr-0.002_wd-0.001_seed-1: Test acc = 98.32%\n"
     ]
    },
    {
     "name": "stderr",
     "output_type": "stream",
     "text": [
      "Sweep progress:  86%|████████▌ | 55/64 [22:51:33<1:12:38, 484.24s/it]"
     ]
    },
    {
     "name": "stdout",
     "output_type": "stream",
     "text": [
      "[DONE] mnist_run_type-minibatch_batch_size-1024_lr-0.002_wd-0.01_seed-0: Test acc = 98.17%\n"
     ]
    },
    {
     "name": "stderr",
     "output_type": "stream",
     "text": [
      "Sweep progress:  88%|████████▊ | 56/64 [22:54:01<51:06, 383.28s/it]  "
     ]
    },
    {
     "name": "stdout",
     "output_type": "stream",
     "text": [
      "[DONE] mnist_run_type-minibatch_batch_size-1024_lr-0.002_wd-0.01_seed-1: Test acc = 98.34%\n"
     ]
    },
    {
     "name": "stderr",
     "output_type": "stream",
     "text": [
      "Sweep progress:  89%|████████▉ | 57/64 [23:35:30<1:58:24, 1014.94s/it]"
     ]
    },
    {
     "name": "stdout",
     "output_type": "stream",
     "text": [
      "[DONE] mnist_run_type-minibatch_batch_size-1024_lr-0.005_wd-0.0_seed-0: Test acc = 97.84%\n"
     ]
    },
    {
     "name": "stderr",
     "output_type": "stream",
     "text": [
      "Sweep progress:  91%|█████████ | 58/64 [23:37:38<1:14:53, 748.89s/it] "
     ]
    },
    {
     "name": "stdout",
     "output_type": "stream",
     "text": [
      "[DONE] mnist_run_type-minibatch_batch_size-1024_lr-0.005_wd-0.0_seed-1: Test acc = 97.86%\n"
     ]
    },
    {
     "name": "stderr",
     "output_type": "stream",
     "text": [
      "Sweep progress:  92%|█████████▏| 59/64 [23:37:51<44:01, 528.25s/it]  "
     ]
    },
    {
     "name": "stdout",
     "output_type": "stream",
     "text": [
      "[DONE] mnist_run_type-minibatch_batch_size-1024_lr-0.005_wd-0.0001_seed-0: Test acc = 97.94%\n"
     ]
    },
    {
     "name": "stderr",
     "output_type": "stream",
     "text": [
      "Sweep progress:  94%|█████████▍| 60/64 [23:40:48<28:11, 422.84s/it]"
     ]
    },
    {
     "name": "stdout",
     "output_type": "stream",
     "text": [
      "[DONE] mnist_run_type-minibatch_batch_size-1024_lr-0.005_wd-0.0001_seed-1: Test acc = 97.69%\n"
     ]
    },
    {
     "name": "stderr",
     "output_type": "stream",
     "text": [
      "Sweep progress:  95%|█████████▌| 61/64 [24:20:25<50:27, 1009.08s/it]"
     ]
    },
    {
     "name": "stdout",
     "output_type": "stream",
     "text": [
      "[DONE] mnist_run_type-minibatch_batch_size-1024_lr-0.005_wd-0.001_seed-0: Test acc = 97.67%\n"
     ]
    },
    {
     "name": "stderr",
     "output_type": "stream",
     "text": [
      "Sweep progress:  97%|█████████▋| 62/64 [24:20:36<23:39, 709.71s/it] "
     ]
    },
    {
     "name": "stdout",
     "output_type": "stream",
     "text": [
      "[DONE] mnist_run_type-minibatch_batch_size-1024_lr-0.005_wd-0.01_seed-0: Test acc = 98.36%\n"
     ]
    },
    {
     "name": "stderr",
     "output_type": "stream",
     "text": [
      "Sweep progress:  98%|█████████▊| 63/64 [24:21:47<08:38, 518.16s/it]"
     ]
    },
    {
     "name": "stdout",
     "output_type": "stream",
     "text": [
      "[DONE] mnist_run_type-minibatch_batch_size-1024_lr-0.005_wd-0.001_seed-1: Test acc = 98.29%\n"
     ]
    },
    {
     "name": "stderr",
     "output_type": "stream",
     "text": [
      "Sweep progress: 100%|██████████| 64/64 [24:24:30<00:00, 1372.98s/it]"
     ]
    },
    {
     "name": "stdout",
     "output_type": "stream",
     "text": [
      "[DONE] mnist_run_type-minibatch_batch_size-1024_lr-0.005_wd-0.01_seed-1: Test acc = 98.04%\n"
     ]
    },
    {
     "name": "stderr",
     "output_type": "stream",
     "text": [
      "\n"
     ]
    },
    {
     "name": "stdout",
     "output_type": "stream",
     "text": [
      "\n",
      "Sweep finished. Summary:\n"
     ]
    },
    {
     "data": {
      "text/plain": [
       "[]"
      ]
     },
     "execution_count": 4,
     "metadata": {},
     "output_type": "execute_result"
    }
   ],
   "source": [
    "from experiments.mnist_parallel import run_experiment\n",
    "\n",
    "run_experiment(\n",
    "    cfg_update={\n",
    "        \"list_run_type\": \"minibatch\",\n",
    "        \"list_batch_size\": [32, 1024],\n",
    "        \"list_lr\": [5e-4, 1e-3, 2e-3, 5e-3],\n",
    "        \"list_wd\": [0.0, 1e-4, 1e-3, 1e-2],\n",
    "        \"list_seed\": [0, 1],\n",
    "        \"epochs\": 200,\n",
    "    },\n",
    "    prefix=\"mnist\",\n",
    "    max_workers=4\n",
    "    )"
   ]
  },
  {
   "cell_type": "code",
   "execution_count": null,
   "metadata": {},
   "outputs": [],
   "source": []
  }
 ],
 "metadata": {
  "kernelspec": {
   "display_name": "cortex",
   "language": "python",
   "name": "python3"
  },
  "language_info": {
   "codemirror_mode": {
    "name": "ipython",
    "version": 3
   },
   "file_extension": ".py",
   "mimetype": "text/x-python",
   "name": "python",
   "nbconvert_exporter": "python",
   "pygments_lexer": "ipython3",
   "version": "3.12.10"
  }
 },
 "nbformat": 4,
 "nbformat_minor": 2
}
