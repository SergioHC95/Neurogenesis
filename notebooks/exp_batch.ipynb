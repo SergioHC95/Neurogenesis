{
 "cells": [
  {
   "cell_type": "code",
   "execution_count": 1,
   "metadata": {},
   "outputs": [],
   "source": [
    "%load_ext autoreload\n",
    "%autoreload 2"
   ]
  },
  {
   "cell_type": "code",
   "execution_count": 2,
   "metadata": {},
   "outputs": [
    {
     "name": "stdout",
     "output_type": "stream",
     "text": [
      "c:\\Users\\sergi\\Dropbox\\Sergio HC\\GitHub\\Neurogenesis\n"
     ]
    }
   ],
   "source": [
    "import os\n",
    "import sys\n",
    "\n",
    "os.environ[\"KMP_DUPLICATE_LIB_OK\"] = \"TRUE\"\n",
    "\n",
    "project_root = os.path.abspath(os.path.join(os.getcwd(), \"..\"))\n",
    "if project_root not in sys.path:\n",
    "    sys.path.insert(0, project_root)\n",
    "print(project_root)"
   ]
  },
  {
   "cell_type": "code",
   "execution_count": 3,
   "metadata": {},
   "outputs": [
    {
     "name": "stdout",
     "output_type": "stream",
     "text": [
      "Launching 24 experiments with 4 workers...\n"
     ]
    },
    {
     "name": "stderr",
     "output_type": "stream",
     "text": [
      "Sweep progress:   4%|▍         | 1/24 [5:15:19<120:52:20, 18919.15s/it]"
     ]
    },
    {
     "name": "stdout",
     "output_type": "stream",
     "text": [
      "[DONE] mnist_run_type-batch_lr-0.0005_wd-0.0_seed-0: Test acc = 97.68%\n"
     ]
    },
    {
     "name": "stderr",
     "output_type": "stream",
     "text": [
      "Sweep progress:   8%|▊         | 2/24 [5:15:23<47:37:23, 7792.91s/it]  "
     ]
    },
    {
     "name": "stdout",
     "output_type": "stream",
     "text": [
      "[DONE] mnist_run_type-batch_lr-0.0005_wd-0.0_seed-1: Test acc = 97.74%\n"
     ]
    },
    {
     "name": "stderr",
     "output_type": "stream",
     "text": [
      "Sweep progress:  12%|█▎        | 3/24 [5:15:41<24:44:55, 4242.65s/it]"
     ]
    },
    {
     "name": "stdout",
     "output_type": "stream",
     "text": [
      "[DONE] mnist_run_type-batch_lr-0.0005_wd-0.0001_seed-1: Test acc = 97.76%\n"
     ]
    },
    {
     "name": "stderr",
     "output_type": "stream",
     "text": [
      "Sweep progress:  17%|█▋        | 4/24 [5:17:09<14:27:27, 2602.36s/it]"
     ]
    },
    {
     "name": "stdout",
     "output_type": "stream",
     "text": [
      "[DONE] mnist_run_type-batch_lr-0.0005_wd-0.0001_seed-0: Test acc = 97.71%\n"
     ]
    },
    {
     "name": "stderr",
     "output_type": "stream",
     "text": [
      "Sweep progress:  21%|██        | 5/24 [10:10:55<42:19:40, 8020.01s/it]"
     ]
    },
    {
     "name": "stdout",
     "output_type": "stream",
     "text": [
      "[DONE] mnist_run_type-batch_lr-0.0005_wd-0.001_seed-1: Test acc = 97.73%\n"
     ]
    },
    {
     "name": "stderr",
     "output_type": "stream",
     "text": [
      "Sweep progress:  25%|██▌       | 6/24 [10:11:02<26:28:43, 5295.73s/it]"
     ]
    },
    {
     "name": "stdout",
     "output_type": "stream",
     "text": [
      "[DONE] mnist_run_type-batch_lr-0.0005_wd-0.001_seed-0: Test acc = 97.66%\n"
     ]
    },
    {
     "name": "stderr",
     "output_type": "stream",
     "text": [
      "Sweep progress:  29%|██▉       | 7/24 [10:12:12<16:56:19, 3587.05s/it]"
     ]
    },
    {
     "name": "stdout",
     "output_type": "stream",
     "text": [
      "[DONE] mnist_run_type-batch_lr-0.0005_wd-0.01_seed-0: Test acc = 97.68%\n"
     ]
    },
    {
     "name": "stderr",
     "output_type": "stream",
     "text": [
      "Sweep progress:  33%|███▎      | 8/24 [10:17:58<11:21:25, 2555.32s/it]"
     ]
    },
    {
     "name": "stdout",
     "output_type": "stream",
     "text": [
      "[DONE] mnist_run_type-batch_lr-0.0005_wd-0.01_seed-1: Test acc = 97.74%\n"
     ]
    },
    {
     "name": "stderr",
     "output_type": "stream",
     "text": [
      "Sweep progress:  38%|███▊      | 9/24 [14:15:13<25:51:39, 6206.62s/it]"
     ]
    },
    {
     "name": "stdout",
     "output_type": "stream",
     "text": [
      "[DONE] mnist_run_type-batch_lr-0.001_wd-0.0_seed-0: Test acc = 97.77%\n"
     ]
    },
    {
     "name": "stderr",
     "output_type": "stream",
     "text": [
      "Sweep progress:  42%|████▏     | 10/24 [14:15:16<16:41:21, 4291.53s/it]"
     ]
    },
    {
     "name": "stdout",
     "output_type": "stream",
     "text": [
      "[DONE] mnist_run_type-batch_lr-0.001_wd-0.0_seed-1: Test acc = 97.81%\n"
     ]
    },
    {
     "name": "stderr",
     "output_type": "stream",
     "text": [
      "Sweep progress:  46%|████▌     | 11/24 [14:16:39<10:50:45, 3003.53s/it]"
     ]
    },
    {
     "name": "stdout",
     "output_type": "stream",
     "text": [
      "[DONE] mnist_run_type-batch_lr-0.001_wd-0.0001_seed-0: Test acc = 97.77%\n"
     ]
    },
    {
     "name": "stderr",
     "output_type": "stream",
     "text": [
      "Sweep progress:  50%|█████     | 12/24 [14:22:02<7:17:37, 2188.10s/it] "
     ]
    },
    {
     "name": "stdout",
     "output_type": "stream",
     "text": [
      "[DONE] mnist_run_type-batch_lr-0.001_wd-0.0001_seed-1: Test acc = 97.83%\n"
     ]
    },
    {
     "name": "stderr",
     "output_type": "stream",
     "text": [
      "Sweep progress:  54%|█████▍    | 13/24 [17:16:51<14:22:09, 4702.65s/it]"
     ]
    },
    {
     "name": "stdout",
     "output_type": "stream",
     "text": [
      "[DONE] mnist_run_type-batch_lr-0.001_wd-0.001_seed-0: Test acc = 97.75%\n"
     ]
    },
    {
     "name": "stderr",
     "output_type": "stream",
     "text": [
      "Sweep progress:  58%|█████▊    | 14/24 [17:16:52<9:07:05, 3282.56s/it] "
     ]
    },
    {
     "name": "stdout",
     "output_type": "stream",
     "text": [
      "[DONE] mnist_run_type-batch_lr-0.001_wd-0.001_seed-1: Test acc = 97.79%\n"
     ]
    },
    {
     "name": "stderr",
     "output_type": "stream",
     "text": [
      "Sweep progress:  62%|██████▎   | 15/24 [17:19:54<5:52:09, 2347.76s/it]"
     ]
    },
    {
     "name": "stdout",
     "output_type": "stream",
     "text": [
      "[DONE] mnist_run_type-batch_lr-0.001_wd-0.01_seed-0: Test acc = 97.76%\n"
     ]
    },
    {
     "name": "stderr",
     "output_type": "stream",
     "text": [
      "Sweep progress:  67%|██████▋   | 16/24 [17:29:52<4:02:49, 1821.18s/it]"
     ]
    },
    {
     "name": "stdout",
     "output_type": "stream",
     "text": [
      "[DONE] mnist_run_type-batch_lr-0.001_wd-0.01_seed-1: Test acc = 97.80%\n"
     ]
    },
    {
     "name": "stderr",
     "output_type": "stream",
     "text": [
      "Sweep progress:  71%|███████   | 17/24 [26:21:29<21:07:35, 10865.01s/it]"
     ]
    },
    {
     "name": "stdout",
     "output_type": "stream",
     "text": [
      "[DONE] mnist_run_type-batch_lr-0.002_wd-0.0_seed-1: Test acc = 97.87%\n"
     ]
    },
    {
     "name": "stderr",
     "output_type": "stream",
     "text": [
      "Sweep progress:  75%|███████▌  | 18/24 [26:22:25<12:41:41, 7616.92s/it] "
     ]
    },
    {
     "name": "stdout",
     "output_type": "stream",
     "text": [
      "[DONE] mnist_run_type-batch_lr-0.002_wd-0.0_seed-0: Test acc = 97.88%\n"
     ]
    },
    {
     "name": "stderr",
     "output_type": "stream",
     "text": [
      "Sweep progress:  79%|███████▉  | 19/24 [26:24:52<7:27:47, 5373.48s/it] "
     ]
    },
    {
     "name": "stdout",
     "output_type": "stream",
     "text": [
      "[DONE] mnist_run_type-batch_lr-0.002_wd-0.0001_seed-0: Test acc = 97.85%\n"
     ]
    },
    {
     "name": "stderr",
     "output_type": "stream",
     "text": [
      "Sweep progress:  83%|████████▎ | 20/24 [26:39:20<4:28:02, 4020.63s/it]"
     ]
    },
    {
     "name": "stdout",
     "output_type": "stream",
     "text": [
      "[DONE] mnist_run_type-batch_lr-0.002_wd-0.0001_seed-1: Test acc = 97.84%\n"
     ]
    },
    {
     "name": "stderr",
     "output_type": "stream",
     "text": [
      "Sweep progress:  88%|████████▊ | 21/24 [32:24:05<7:31:09, 9023.00s/it]"
     ]
    },
    {
     "name": "stdout",
     "output_type": "stream",
     "text": [
      "[DONE] mnist_run_type-batch_lr-0.002_wd-0.001_seed-0: Test acc = 97.87%\n"
     ]
    },
    {
     "name": "stderr",
     "output_type": "stream",
     "text": [
      "Sweep progress:  92%|█████████▏| 22/24 [32:24:19<3:30:38, 6319.10s/it]"
     ]
    },
    {
     "name": "stdout",
     "output_type": "stream",
     "text": [
      "[DONE] mnist_run_type-batch_lr-0.002_wd-0.001_seed-1: Test acc = 97.87%\n"
     ]
    },
    {
     "name": "stderr",
     "output_type": "stream",
     "text": [
      "Sweep progress:  96%|█████████▌| 23/24 [32:25:26<1:14:03, 4443.07s/it]"
     ]
    },
    {
     "name": "stdout",
     "output_type": "stream",
     "text": [
      "[DONE] mnist_run_type-batch_lr-0.002_wd-0.01_seed-0: Test acc = 97.87%\n"
     ]
    },
    {
     "name": "stderr",
     "output_type": "stream",
     "text": [
      "Sweep progress: 100%|██████████| 24/24 [32:32:53<00:00, 4882.23s/it]  "
     ]
    },
    {
     "name": "stdout",
     "output_type": "stream",
     "text": [
      "[DONE] mnist_run_type-batch_lr-0.002_wd-0.01_seed-1: Test acc = 97.85%\n"
     ]
    },
    {
     "name": "stderr",
     "output_type": "stream",
     "text": [
      "\n"
     ]
    },
    {
     "name": "stdout",
     "output_type": "stream",
     "text": [
      "\n",
      "Sweep finished. Summary:\n"
     ]
    },
    {
     "data": {
      "text/plain": [
       "[]"
      ]
     },
     "execution_count": 3,
     "metadata": {},
     "output_type": "execute_result"
    }
   ],
   "source": [
    "from experiments.mnist_parallel import run_experiment\n",
    "\n",
    "run_experiment(\n",
    "    cfg_update={\n",
    "        \"list_run_type\": \"batch\",\n",
    "        \"list_lr\": [5e-4, 1e-3, 2e-3],\n",
    "        \"list_wd\": [0.0, 1e-4, 1e-3, 1e-2],\n",
    "        \"list_seed\": [0, 1],\n",
    "        \"epochs\": 1000\n",
    "    },\n",
    "    prefix=\"mnist\",\n",
    "    max_workers=4\n",
    "    )"
   ]
  },
  {
   "cell_type": "code",
   "execution_count": null,
   "metadata": {},
   "outputs": [],
   "source": []
  }
 ],
 "metadata": {
  "kernelspec": {
   "display_name": "cortex",
   "language": "python",
   "name": "python3"
  },
  "language_info": {
   "codemirror_mode": {
    "name": "ipython",
    "version": 3
   },
   "file_extension": ".py",
   "mimetype": "text/x-python",
   "name": "python",
   "nbconvert_exporter": "python",
   "pygments_lexer": "ipython3",
   "version": "3.12.10"
  }
 },
 "nbformat": 4,
 "nbformat_minor": 2
}
